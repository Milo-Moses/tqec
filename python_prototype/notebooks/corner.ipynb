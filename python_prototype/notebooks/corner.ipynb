{
 "cells": [
  {
   "cell_type": "markdown",
   "metadata": {},
   "source": [
    "# Example to generate a corner\n",
    "\n",
    "This notebook aims at showing how to generate a corner using the template approach."
   ]
  },
  {
   "cell_type": "code",
   "execution_count": null,
   "metadata": {
    "vscode": {
     "languageId": "shellscript"
    }
   },
   "outputs": [],
   "source": [
    "# Install the tqec package locally\n",
    "!python -m pip install -e ../"
   ]
  },
  {
   "cell_type": "code",
   "execution_count": 9,
   "metadata": {},
   "outputs": [
    {
     "name": "stdout",
     "output_type": "stream",
     "text": [
      "Corner size: (12, 12)\n",
      "  .  .  1  .  1  .  .  .  .  .  .  .\n",
      "  2  3  2  3  2  .  .  .  .  .  .  .\n",
      "  .  2  3  2  3  5  .  .  .  .  .  .\n",
      "  2  3  2  3  2  .  .  .  .  .  .  .\n",
      "  .  2  3  2  3  5  .  .  .  .  .  .\n",
      "  2  3  2  3  2  .  .  .  .  .  .  .\n",
      "  .  2  3  2  3  6  .  7  .  7  .  .\n",
      "  2  3  2  3  8  9  8  8  9  8  9 10\n",
      "  .  2  3  8  9  8  9  9  8  9  8  .\n",
      "  2  3  8  9  8  9  8  8  9  8  9 10\n",
      "  . 11  9  8  9  8  9  9  8  9  8  .\n",
      "  .  . 12  . 12  . 12  . 12  . 12  .\n",
      "Getting the underlying array...\n",
      "  .  .  1  .  1  .  .  .  .  .  .  .\n",
      "  2  3  2  3  2  .  .  .  .  .  .  .\n",
      "  .  2  3  2  3  5  .  .  .  .  .  .\n",
      "  2  3  2  3  2  .  .  .  .  .  .  .\n",
      "  .  2  3  2  3  5  .  .  .  .  .  .\n",
      "  2  3  2  3  2  .  .  .  .  .  .  .\n",
      "  .  2  3  2  3  6  .  7  .  7  .  .\n",
      "  2  3  2  3  8  9  8  8  9  8  9 10\n",
      "  .  2  3  8  9  8  9  9  8  9  8  .\n",
      "  2  3  8  9  8  9  8  8  9  8  9 10\n",
      "  . 11  9  8  9  8  9  9  8  9  8  .\n",
      "  .  . 12  . 12  . 12  . 12  . 12  .\n"
     ]
    }
   ],
   "source": [
    "from tqec.templates.scalable.corner import ScalableCorner\n",
    "from tqec.display import display\n",
    "\n",
    "# Corner made of distance 5 (i.e., 4 plaquettes, i.e., dim=4 in the line below) surface codes\n",
    "corner = ScalableCorner(4)\n",
    "print(f\"Corner size: {corner.shape}\")\n",
    "display(corner)\n",
    "# To get the underlying array (the following code is basically what is in the display function above)\n",
    "print(\"Getting the underlying array...\")\n",
    "array = corner.instanciate()\n",
    "for line in array:\n",
    "    for element in line:\n",
    "        print(f\"{element or '.':>3}\", end=\"\")\n",
    "    print()"
   ]
  },
  {
   "cell_type": "code",
   "execution_count": 5,
   "metadata": {},
   "outputs": [
    {
     "name": "stdout",
     "output_type": "stream",
     "text": [
      "Corner size: (16, 16)\n",
      "  .  .  1  .  1  .  1  .  .  .  .  .  .  .  .  .\n",
      "  2  3  2  3  2  3  2  .  .  .  .  .  .  .  .  .\n",
      "  .  2  3  2  3  2  3  5  .  .  .  .  .  .  .  .\n",
      "  2  3  2  3  2  3  2  .  .  .  .  .  .  .  .  .\n",
      "  .  2  3  2  3  2  3  5  .  .  .  .  .  .  .  .\n",
      "  2  3  2  3  2  3  2  .  .  .  .  .  .  .  .  .\n",
      "  .  2  3  2  3  2  3  5  .  .  .  .  .  .  .  .\n",
      "  2  3  2  3  2  3  2  .  .  .  .  .  .  .  .  .\n",
      "  .  2  3  2  3  2  3  6  .  7  .  7  .  7  .  .\n",
      "  2  3  2  3  2  3  8  9  8  8  9  8  9  8  9 10\n",
      "  .  2  3  2  3  8  9  8  9  9  8  9  8  9  8  .\n",
      "  2  3  2  3  8  9  8  9  8  8  9  8  9  8  9 10\n",
      "  .  2  3  8  9  8  9  8  9  9  8  9  8  9  8  .\n",
      "  2  3  8  9  8  9  8  9  8  8  9  8  9  8  9 10\n",
      "  . 11  9  8  9  8  9  8  9  9  8  9  8  9  8  .\n",
      "  .  . 12  . 12  . 12  . 12  . 12  . 12  . 12  .\n"
     ]
    }
   ],
   "source": [
    "# Corner made of distance 7 (i.e., 6 plaquettes, i.e., k=6 in the line below) surface codes\n",
    "# This changes corner inplace\n",
    "corner.scale_to(6)\n",
    "print(f\"Corner size: {corner.shape}\")\n",
    "display(corner)"
   ]
  },
  {
   "cell_type": "code",
   "execution_count": 12,
   "metadata": {},
   "outputs": [
    {
     "name": "stdout",
     "output_type": "stream",
     "text": [
      "Corner size: (44, 44)\n",
      "  .  .  1  .  1  .  1  .  1  .  1  .  1  .  1  .  1  .  1  .  1  .  .  .  .  .  .  .  .  .  .  .  .  .  .  .  .  .  .  .  .  .  .  .\n",
      "  2  3  2  3  2  3  2  3  2  3  2  3  2  3  2  3  2  3  2  3  2  .  .  .  .  .  .  .  .  .  .  .  .  .  .  .  .  .  .  .  .  .  .  .\n",
      "  .  2  3  2  3  2  3  2  3  2  3  2  3  2  3  2  3  2  3  2  3  5  .  .  .  .  .  .  .  .  .  .  .  .  .  .  .  .  .  .  .  .  .  .\n",
      "  2  3  2  3  2  3  2  3  2  3  2  3  2  3  2  3  2  3  2  3  2  .  .  .  .  .  .  .  .  .  .  .  .  .  .  .  .  .  .  .  .  .  .  .\n",
      "  .  2  3  2  3  2  3  2  3  2  3  2  3  2  3  2  3  2  3  2  3  5  .  .  .  .  .  .  .  .  .  .  .  .  .  .  .  .  .  .  .  .  .  .\n",
      "  2  3  2  3  2  3  2  3  2  3  2  3  2  3  2  3  2  3  2  3  2  .  .  .  .  .  .  .  .  .  .  .  .  .  .  .  .  .  .  .  .  .  .  .\n",
      "  .  2  3  2  3  2  3  2  3  2  3  2  3  2  3  2  3  2  3  2  3  5  .  .  .  .  .  .  .  .  .  .  .  .  .  .  .  .  .  .  .  .  .  .\n",
      "  2  3  2  3  2  3  2  3  2  3  2  3  2  3  2  3  2  3  2  3  2  .  .  .  .  .  .  .  .  .  .  .  .  .  .  .  .  .  .  .  .  .  .  .\n",
      "  .  2  3  2  3  2  3  2  3  2  3  2  3  2  3  2  3  2  3  2  3  5  .  .  .  .  .  .  .  .  .  .  .  .  .  .  .  .  .  .  .  .  .  .\n",
      "  2  3  2  3  2  3  2  3  2  3  2  3  2  3  2  3  2  3  2  3  2  .  .  .  .  .  .  .  .  .  .  .  .  .  .  .  .  .  .  .  .  .  .  .\n",
      "  .  2  3  2  3  2  3  2  3  2  3  2  3  2  3  2  3  2  3  2  3  5  .  .  .  .  .  .  .  .  .  .  .  .  .  .  .  .  .  .  .  .  .  .\n",
      "  2  3  2  3  2  3  2  3  2  3  2  3  2  3  2  3  2  3  2  3  2  .  .  .  .  .  .  .  .  .  .  .  .  .  .  .  .  .  .  .  .  .  .  .\n",
      "  .  2  3  2  3  2  3  2  3  2  3  2  3  2  3  2  3  2  3  2  3  5  .  .  .  .  .  .  .  .  .  .  .  .  .  .  .  .  .  .  .  .  .  .\n",
      "  2  3  2  3  2  3  2  3  2  3  2  3  2  3  2  3  2  3  2  3  2  .  .  .  .  .  .  .  .  .  .  .  .  .  .  .  .  .  .  .  .  .  .  .\n",
      "  .  2  3  2  3  2  3  2  3  2  3  2  3  2  3  2  3  2  3  2  3  5  .  .  .  .  .  .  .  .  .  .  .  .  .  .  .  .  .  .  .  .  .  .\n",
      "  2  3  2  3  2  3  2  3  2  3  2  3  2  3  2  3  2  3  2  3  2  .  .  .  .  .  .  .  .  .  .  .  .  .  .  .  .  .  .  .  .  .  .  .\n",
      "  .  2  3  2  3  2  3  2  3  2  3  2  3  2  3  2  3  2  3  2  3  5  .  .  .  .  .  .  .  .  .  .  .  .  .  .  .  .  .  .  .  .  .  .\n",
      "  2  3  2  3  2  3  2  3  2  3  2  3  2  3  2  3  2  3  2  3  2  .  .  .  .  .  .  .  .  .  .  .  .  .  .  .  .  .  .  .  .  .  .  .\n",
      "  .  2  3  2  3  2  3  2  3  2  3  2  3  2  3  2  3  2  3  2  3  5  .  .  .  .  .  .  .  .  .  .  .  .  .  .  .  .  .  .  .  .  .  .\n",
      "  2  3  2  3  2  3  2  3  2  3  2  3  2  3  2  3  2  3  2  3  2  .  .  .  .  .  .  .  .  .  .  .  .  .  .  .  .  .  .  .  .  .  .  .\n",
      "  .  2  3  2  3  2  3  2  3  2  3  2  3  2  3  2  3  2  3  2  3  5  .  .  .  .  .  .  .  .  .  .  .  .  .  .  .  .  .  .  .  .  .  .\n",
      "  2  3  2  3  2  3  2  3  2  3  2  3  2  3  2  3  2  3  2  3  2  .  .  .  .  .  .  .  .  .  .  .  .  .  .  .  .  .  .  .  .  .  .  .\n",
      "  .  2  3  2  3  2  3  2  3  2  3  2  3  2  3  2  3  2  3  2  3  6  .  7  .  7  .  7  .  7  .  7  .  7  .  7  .  7  .  7  .  7  .  .\n",
      "  2  3  2  3  2  3  2  3  2  3  2  3  2  3  2  3  2  3  2  3  8  9  8  8  9  8  9  8  9  8  9  8  9  8  9  8  9  8  9  8  9  8  9 10\n",
      "  .  2  3  2  3  2  3  2  3  2  3  2  3  2  3  2  3  2  3  8  9  8  9  9  8  9  8  9  8  9  8  9  8  9  8  9  8  9  8  9  8  9  8  .\n",
      "  2  3  2  3  2  3  2  3  2  3  2  3  2  3  2  3  2  3  8  9  8  9  8  8  9  8  9  8  9  8  9  8  9  8  9  8  9  8  9  8  9  8  9 10\n",
      "  .  2  3  2  3  2  3  2  3  2  3  2  3  2  3  2  3  8  9  8  9  8  9  9  8  9  8  9  8  9  8  9  8  9  8  9  8  9  8  9  8  9  8  .\n",
      "  2  3  2  3  2  3  2  3  2  3  2  3  2  3  2  3  8  9  8  9  8  9  8  8  9  8  9  8  9  8  9  8  9  8  9  8  9  8  9  8  9  8  9 10\n",
      "  .  2  3  2  3  2  3  2  3  2  3  2  3  2  3  8  9  8  9  8  9  8  9  9  8  9  8  9  8  9  8  9  8  9  8  9  8  9  8  9  8  9  8  .\n",
      "  2  3  2  3  2  3  2  3  2  3  2  3  2  3  8  9  8  9  8  9  8  9  8  8  9  8  9  8  9  8  9  8  9  8  9  8  9  8  9  8  9  8  9 10\n",
      "  .  2  3  2  3  2  3  2  3  2  3  2  3  8  9  8  9  8  9  8  9  8  9  9  8  9  8  9  8  9  8  9  8  9  8  9  8  9  8  9  8  9  8  .\n",
      "  2  3  2  3  2  3  2  3  2  3  2  3  8  9  8  9  8  9  8  9  8  9  8  8  9  8  9  8  9  8  9  8  9  8  9  8  9  8  9  8  9  8  9 10\n",
      "  .  2  3  2  3  2  3  2  3  2  3  8  9  8  9  8  9  8  9  8  9  8  9  9  8  9  8  9  8  9  8  9  8  9  8  9  8  9  8  9  8  9  8  .\n",
      "  2  3  2  3  2  3  2  3  2  3  8  9  8  9  8  9  8  9  8  9  8  9  8  8  9  8  9  8  9  8  9  8  9  8  9  8  9  8  9  8  9  8  9 10\n",
      "  .  2  3  2  3  2  3  2  3  8  9  8  9  8  9  8  9  8  9  8  9  8  9  9  8  9  8  9  8  9  8  9  8  9  8  9  8  9  8  9  8  9  8  .\n",
      "  2  3  2  3  2  3  2  3  8  9  8  9  8  9  8  9  8  9  8  9  8  9  8  8  9  8  9  8  9  8  9  8  9  8  9  8  9  8  9  8  9  8  9 10\n",
      "  .  2  3  2  3  2  3  8  9  8  9  8  9  8  9  8  9  8  9  8  9  8  9  9  8  9  8  9  8  9  8  9  8  9  8  9  8  9  8  9  8  9  8  .\n",
      "  2  3  2  3  2  3  8  9  8  9  8  9  8  9  8  9  8  9  8  9  8  9  8  8  9  8  9  8  9  8  9  8  9  8  9  8  9  8  9  8  9  8  9 10\n",
      "  .  2  3  2  3  8  9  8  9  8  9  8  9  8  9  8  9  8  9  8  9  8  9  9  8  9  8  9  8  9  8  9  8  9  8  9  8  9  8  9  8  9  8  .\n",
      "  2  3  2  3  8  9  8  9  8  9  8  9  8  9  8  9  8  9  8  9  8  9  8  8  9  8  9  8  9  8  9  8  9  8  9  8  9  8  9  8  9  8  9 10\n",
      "  .  2  3  8  9  8  9  8  9  8  9  8  9  8  9  8  9  8  9  8  9  8  9  9  8  9  8  9  8  9  8  9  8  9  8  9  8  9  8  9  8  9  8  .\n",
      "  2  3  8  9  8  9  8  9  8  9  8  9  8  9  8  9  8  9  8  9  8  9  8  8  9  8  9  8  9  8  9  8  9  8  9  8  9  8  9  8  9  8  9 10\n",
      "  . 11  9  8  9  8  9  8  9  8  9  8  9  8  9  8  9  8  9  8  9  8  9  9  8  9  8  9  8  9  8  9  8  9  8  9  8  9  8  9  8  9  8  .\n",
      "  .  . 12  . 12  . 12  . 12  . 12  . 12  . 12  . 12  . 12  . 12  . 12  . 12  . 12  . 12  . 12  . 12  . 12  . 12  . 12  . 12  . 12  .\n"
     ]
    }
   ],
   "source": [
    "# Corner made of distance 21 (i.e., 20 plaquettes, i.e., k=20 in the line below) surface codes\n",
    "# This changes corner inplace\n",
    "corner.scale_to(20)\n",
    "print(f\"Corner size: {corner.shape}\")\n",
    "# Might be long to display and hard to read, commented out by default.\n",
    "# Uncomment next line if you want to display the plaquette arrangement.\n",
    "display(corner)"
   ]
  },
  {
   "cell_type": "code",
   "execution_count": 14,
   "metadata": {},
   "outputs": [
    {
     "name": "stdout",
     "output_type": "stream",
     "text": [
      "(10004, 10004)\n",
      "(10004, 10004)\n"
     ]
    }
   ],
   "source": [
    "# The library can go quite high:\n",
    "corner.scale_to(5000)\n",
    "array = corner.instanciate()\n",
    "print(array.shape)\n",
    "print(corner.shape)"
   ]
  }
 ],
 "metadata": {
  "kernelspec": {
   "display_name": "qec",
   "language": "python",
   "name": "python3"
  },
  "language_info": {
   "codemirror_mode": {
    "name": "ipython",
    "version": 3
   },
   "file_extension": ".py",
   "mimetype": "text/x-python",
   "name": "python",
   "nbconvert_exporter": "python",
   "pygments_lexer": "ipython3",
   "version": "3.12.0"
  }
 },
 "nbformat": 4,
 "nbformat_minor": 2
}
