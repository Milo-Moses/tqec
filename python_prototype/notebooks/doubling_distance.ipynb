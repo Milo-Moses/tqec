{
 "cells": [
  {
   "cell_type": "markdown",
   "metadata": {},
   "source": [
    "# Illustration of the doubling-distance code\n",
    "This notebook aims at illustrating how a doubling distance code like \n",
    "\n",
    "![image.png](./doubling_distance.png)\n",
    "\n",
    "can be implemented using the template approach."
   ]
  },
  {
   "cell_type": "markdown",
   "metadata": {},
   "source": [
    "## 1. Define the building blocks"
   ]
  },
  {
   "cell_type": "code",
   "execution_count": 6,
   "metadata": {},
   "outputs": [],
   "source": [
    "import numpy\n",
    "from tqec.templates.scalable.rectangle import ScalableRectangle\n",
    "from tqec.templates.fixed.base import FixedRaw\n",
    "from tqec.templates.scalable.square import ScalableAlternatingSquare\n",
    "from tqec.templates.fixed.square import FixedAlternatingSquare\n",
    "from tqec.templates.base import TemplateWithPlaquettes\n",
    "from tqec.templates.shapes.square import AlternatingSquare\n",
    "\n",
    "\n",
    "left_white_scalable_rectangle = TemplateWithPlaquettes(\n",
    "    ScalableRectangle(1, 4), [1, 0]\n",
    ")  # 2, 9, 19\n",
    "right_white_scalable_rectangle = TemplateWithPlaquettes(\n",
    "    ScalableRectangle(1, 4), [0, 1]\n",
    ")  # 4, 13, 23\n",
    "top_white_scalable_rectangle = TemplateWithPlaquettes(\n",
    "    ScalableRectangle(4, 1), [1, 0]\n",
    ")  # 8\n",
    "top_black_scalable_rectangle = TemplateWithPlaquettes(\n",
    "    ScalableRectangle(4, 1), [0, 1]\n",
    ")  # 1\n",
    "bottom_black_scalable_rectangle = TemplateWithPlaquettes(\n",
    "    ScalableRectangle(4, 1), [1, 0]\n",
    ")  # 24, 26\n",
    "scalable_square = TemplateWithPlaquettes(\n",
    "    ScalableAlternatingSquare(4), [1, 1]\n",
    ")  # 3, 10, 20, 22\n",
    "fixed_square = TemplateWithPlaquettes(FixedAlternatingSquare(2), [1, 1])  # 16\n",
    "horizontal_scalable_rectangle = TemplateWithPlaquettes(ScalableRectangle(4, 2), [1, 1])  # 6, 15, 17\n",
    "vertical_scalable_rectangle = TemplateWithPlaquettes(ScalableRectangle(2, 4), [1, 1])  # 11, 21\n",
    "left_fixed_square = TemplateWithPlaquettes(FixedRaw([[0]]), [1])\n",
    "right_fixed_square = TemplateWithPlaquettes(FixedRaw([[0]]), [1])\n",
    "bottom_fixed_square = TemplateWithPlaquettes(FixedRaw([[0]]), [1])\n",
    "# Specific cases:\n",
    "# - the corner numbered 7\n",
    "corner = TemplateWithPlaquettes(FixedRaw([[0, 0], [2, 0]]), [0, 1])\n",
    "\n",
    "\n",
    "# - the square numbered 12 that has a specific top-right plaquette\n",
    "class SpecificAlternatingSquare(AlternatingSquare):\n",
    "    def instanciate(\n",
    "        self, x_plaquette: int, z_plaquette: int, special_plaquette: int, *_: int\n",
    "    ) -> numpy.ndarray:\n",
    "        arr = super().instanciate(x_plaquette, z_plaquette, *_)\n",
    "        arr[0, self._dimension - 1] = special_plaquette\n",
    "        return arr\n",
    "\n",
    "\n",
    "top_right_specific_square = TemplateWithPlaquettes(\n",
    "    SpecificAlternatingSquare(4), [1, 1, 1]\n",
    ")"
   ]
  },
  {
   "cell_type": "code",
   "execution_count": 7,
   "metadata": {},
   "outputs": [],
   "source": [
    "templates = [\n",
    "    # 0\n",
    "    top_black_scalable_rectangle,\n",
    "    left_white_scalable_rectangle,\n",
    "    scalable_square,\n",
    "    right_white_scalable_rectangle,\n",
    "    left_fixed_square,\n",
    "    # 5\n",
    "    horizontal_scalable_rectangle,\n",
    "    corner,\n",
    "    top_white_scalable_rectangle,\n",
    "    left_white_scalable_rectangle,\n",
    "    scalable_square,\n",
    "    # 10\n",
    "    vertical_scalable_rectangle,\n",
    "    top_right_specific_square,\n",
    "    right_white_scalable_rectangle,\n",
    "    left_fixed_square,\n",
    "    horizontal_scalable_rectangle,\n",
    "    # 15\n",
    "    fixed_square,\n",
    "    horizontal_scalable_rectangle,\n",
    "    right_fixed_square,\n",
    "    left_white_scalable_rectangle,\n",
    "    scalable_square,\n",
    "    # 20\n",
    "    vertical_scalable_rectangle,\n",
    "    scalable_square,\n",
    "    right_white_scalable_rectangle,\n",
    "    bottom_black_scalable_rectangle,\n",
    "    bottom_fixed_square,\n",
    "    # 25\n",
    "    bottom_black_scalable_rectangle,\n",
    "]\n",
    "assert len(templates) == 26"
   ]
  },
  {
   "cell_type": "code",
   "execution_count": 8,
   "metadata": {},
   "outputs": [],
   "source": [
    "from tqec.enums import ABOVE_OF, BELOW_OF, LEFT_OF, RIGHT_OF\n",
    "\n",
    "relations = [\n",
    "    (0, ABOVE_OF, 2),\n",
    "    (1, LEFT_OF, 2),\n",
    "    (3, RIGHT_OF, 2),\n",
    "    (4, BELOW_OF, 1),\n",
    "    (5, BELOW_OF, 2),\n",
    "    (6, RIGHT_OF, 5),\n",
    "    (9, BELOW_OF, 5),\n",
    "    (8, LEFT_OF, 9),\n",
    "    (10, RIGHT_OF, 9),\n",
    "    (11, RIGHT_OF, 10),\n",
    "    (12, RIGHT_OF, 11),\n",
    "    (7, ABOVE_OF, 11),\n",
    "    (13, BELOW_OF, 8),\n",
    "    (14, BELOW_OF, 9),\n",
    "    (15, BELOW_OF, 10),\n",
    "    (16, BELOW_OF, 11),\n",
    "    (19, BELOW_OF, 14),\n",
    "    (18, LEFT_OF, 19),\n",
    "    (20, RIGHT_OF, 19),\n",
    "    (21, RIGHT_OF, 20),\n",
    "    (22, RIGHT_OF, 21),\n",
    "    (17, ABOVE_OF, 22),\n",
    "    (23, BELOW_OF, 19),\n",
    "    (24, RIGHT_OF, 23),\n",
    "    (25, BELOW_OF, 21),\n",
    "]"
   ]
  },
  {
   "cell_type": "code",
   "execution_count": 9,
   "metadata": {},
   "outputs": [],
   "source": [
    "from tqec.templates.orchestrator import TemplateOrchestrator\n",
    "\n",
    "\n",
    "doubling_template = TemplateOrchestrator(templates)\n",
    "for start, reldir, end in relations:\n",
    "    doubling_template.add_relation(start, reldir, end)"
   ]
  },
  {
   "cell_type": "code",
   "execution_count": 10,
   "metadata": {},
   "outputs": [
    {
     "ename": "IndexError",
     "evalue": "index 2 is out of bounds for axis 0 with size 2",
     "output_type": "error",
     "traceback": [
      "\u001b[0;31m---------------------------------------------------------------------------\u001b[0m",
      "\u001b[0;31mIndexError\u001b[0m                                Traceback (most recent call last)",
      "\u001b[1;32m/home/suau/qraftware/projects/tqec/python_prototype/notebooks/doubling_distance.ipynb Cell 7\u001b[0m line \u001b[0;36m2\n\u001b[1;32m      <a href='vscode-notebook-cell:/home/suau/qraftware/projects/tqec/python_prototype/notebooks/doubling_distance.ipynb#W6sZmlsZQ%3D%3D?line=0'>1</a>\u001b[0m \u001b[39mfrom\u001b[39;00m \u001b[39mtqec\u001b[39;00m\u001b[39m.\u001b[39;00m\u001b[39mdisplay\u001b[39;00m \u001b[39mimport\u001b[39;00m display\n\u001b[0;32m----> <a href='vscode-notebook-cell:/home/suau/qraftware/projects/tqec/python_prototype/notebooks/doubling_distance.ipynb#W6sZmlsZQ%3D%3D?line=1'>2</a>\u001b[0m display(doubling_template)\n",
      "File \u001b[0;32m~/qraftware/projects/tqec/python_prototype/src/tqec/display.py:5\u001b[0m, in \u001b[0;36mdisplay\u001b[0;34m(template, *plaquette_indices)\u001b[0m\n\u001b[1;32m      4\u001b[0m \u001b[39mdef\u001b[39;00m \u001b[39mdisplay\u001b[39m(template: Template, \u001b[39m*\u001b[39mplaquette_indices: \u001b[39mint\u001b[39m) \u001b[39m-\u001b[39m\u001b[39m>\u001b[39m \u001b[39mNone\u001b[39;00m:\n\u001b[0;32m----> 5\u001b[0m     arr \u001b[39m=\u001b[39m template\u001b[39m.\u001b[39;49minstanciate(\u001b[39m*\u001b[39;49mplaquette_indices)\n\u001b[1;32m      6\u001b[0m     \u001b[39mfor\u001b[39;00m line \u001b[39min\u001b[39;00m arr:\n\u001b[1;32m      7\u001b[0m         \u001b[39mfor\u001b[39;00m element \u001b[39min\u001b[39;00m line:\n",
      "File \u001b[0;32m~/qraftware/projects/tqec/python_prototype/src/tqec/templates/orchestrator.py:176\u001b[0m, in \u001b[0;36mTemplateOrchestrator.instanciate\u001b[0;34m(self, *plaquette_indices)\u001b[0m\n\u001b[1;32m    172\u001b[0m \u001b[39mdef\u001b[39;00m \u001b[39minstanciate\u001b[39m(\u001b[39mself\u001b[39m, \u001b[39m*\u001b[39mplaquette_indices: \u001b[39mint\u001b[39m) \u001b[39m-\u001b[39m\u001b[39m>\u001b[39m numpy\u001b[39m.\u001b[39mndarray:\n\u001b[1;32m    173\u001b[0m     \u001b[39massert\u001b[39;00m (\n\u001b[1;32m    174\u001b[0m         \u001b[39mlen\u001b[39m(plaquette_indices) \u001b[39m==\u001b[39m \u001b[39m0\u001b[39m\n\u001b[1;32m    175\u001b[0m     ), \u001b[39m\"\u001b[39m\u001b[39mOrchestrator instances should not need any plaquette indices to call instantiate.\u001b[39m\u001b[39m\"\u001b[39m\n\u001b[0;32m--> 176\u001b[0m     \u001b[39mreturn\u001b[39;00m \u001b[39mself\u001b[39;49m\u001b[39m.\u001b[39;49mbuild_array()\n",
      "File \u001b[0;32m~/qraftware/projects/tqec/python_prototype/src/tqec/templates/orchestrator.py:167\u001b[0m, in \u001b[0;36mTemplateOrchestrator.build_array\u001b[0;34m(self)\u001b[0m\n\u001b[1;32m    165\u001b[0m     y \u001b[39m=\u001b[39m uly \u001b[39m-\u001b[39m bbul[\u001b[39m0\u001b[39m]\n\u001b[1;32m    166\u001b[0m     x \u001b[39m=\u001b[39m ulx \u001b[39m-\u001b[39m bbul[\u001b[39m1\u001b[39m]\n\u001b[0;32m--> 167\u001b[0m     ret[y : y \u001b[39m+\u001b[39m tshapey, x : x \u001b[39m+\u001b[39m tshapex] \u001b[39m=\u001b[39m template\u001b[39m.\u001b[39;49minstanciate(\n\u001b[1;32m    168\u001b[0m         \u001b[39m*\u001b[39;49mplaquette_indices\n\u001b[1;32m    169\u001b[0m     )\n\u001b[1;32m    170\u001b[0m \u001b[39mreturn\u001b[39;00m ret\n",
      "File \u001b[0;32m~/qraftware/projects/tqec/python_prototype/src/tqec/templates/fixed/base.py:29\u001b[0m, in \u001b[0;36mFixedRaw.instanciate\u001b[0;34m(self, *plaquette_indices)\u001b[0m\n\u001b[1;32m     28\u001b[0m \u001b[39mdef\u001b[39;00m \u001b[39minstanciate\u001b[39m(\u001b[39mself\u001b[39m, \u001b[39m*\u001b[39mplaquette_indices: \u001b[39mint\u001b[39m) \u001b[39m-\u001b[39m\u001b[39m>\u001b[39m numpy\u001b[39m.\u001b[39mndarray:\n\u001b[0;32m---> 29\u001b[0m     \u001b[39mreturn\u001b[39;00m numpy\u001b[39m.\u001b[39;49marray(plaquette_indices)[\u001b[39mself\u001b[39;49m\u001b[39m.\u001b[39;49m_plaquette_template]\n",
      "\u001b[0;31mIndexError\u001b[0m: index 2 is out of bounds for axis 0 with size 2"
     ]
    }
   ],
   "source": [
    "from tqec.display import display\n",
    "display(doubling_template)"
   ]
  },
  {
   "cell_type": "code",
   "execution_count": 30,
   "metadata": {},
   "outputs": [
    {
     "name": "stdout",
     "output_type": "stream",
     "text": [
      "  .  .  1  .  1  .  1  .  .  .  .  .  .  .  .  .\n",
      "  1  1  1  1  1  1  1  .  .  .  .  .  .  .  .  .\n",
      "  .  1  1  1  1  1  1  1  .  .  .  .  .  .  .  .\n",
      "  1  1  1  1  1  1  1  .  .  .  .  .  .  .  .  .\n",
      "  .  1  1  1  1  1  1  1  .  .  .  .  .  .  .  .\n",
      "  1  1  1  1  1  1  1  .  .  .  .  .  .  .  .  .\n",
      "  .  1  1  1  1  1  1  1  .  .  .  .  .  .  .  .\n",
      "  1  1  1  1  1  1  1  .  .  .  .  .  .  .  .  .\n",
      "  .  1  1  1  1  1  1  1  .  1  .  1  .  1  .  .\n",
      "  1  1  1  1  1  1  1  1  1  1  1  1  1  1  1  .\n",
      "  .  1  1  1  1  1  1  1  1  1  1  1  1  1  1  1\n",
      "  1  1  1  1  1  1  1  1  1  1  1  1  1  1  1  .\n",
      "  .  1  1  1  1  1  1  1  1  1  1  1  1  1  1  1\n",
      "  1  1  1  1  1  1  1  1  1  1  1  1  1  1  1  .\n",
      "  .  1  1  1  1  1  1  1  1  1  1  1  1  1  1  1\n",
      "  1  1  1  1  1  1  1  1  1  1  1  1  1  1  1  .\n",
      "  .  1  1  1  1  1  1  1  1  1  1  1  1  1  1  1\n",
      "  1  1  1  1  1  1  1  1  1  1  1  1  1  1  1  .\n",
      "  .  1  1  1  1  1  1  1  1  1  1  1  1  1  1  1\n",
      "  1  1  1  1  1  1  1  1  1  1  1  1  1  1  1  .\n",
      "  .  1  1  1  1  1  1  1  1  1  1  1  1  1  1  1\n",
      "  1  1  1  1  1  1  1  1  1  1  1  1  1  1  1  .\n",
      "  .  1  1  1  1  1  1  1  1  1  1  1  1  1  1  1\n",
      "  .  1  .  1  .  1  .  1  .  1  .  1  .  1  .  .\n"
     ]
    }
   ],
   "source": [
    "display(doubling_template.scale_to(6))"
   ]
  }
 ],
 "metadata": {
  "kernelspec": {
   "display_name": "qec",
   "language": "python",
   "name": "python3"
  },
  "language_info": {
   "codemirror_mode": {
    "name": "ipython",
    "version": 3
   },
   "file_extension": ".py",
   "mimetype": "text/x-python",
   "name": "python",
   "nbconvert_exporter": "python",
   "pygments_lexer": "ipython3",
   "version": "3.12.0"
  }
 },
 "nbformat": 4,
 "nbformat_minor": 2
}
